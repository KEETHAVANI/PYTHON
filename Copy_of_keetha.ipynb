{
  "nbformat": 4,
  "nbformat_minor": 0,
  "metadata": {
    "colab": {
      "name": "Copy of keetha.ipynb",
      "provenance": [],
      "collapsed_sections": [],
      "authorship_tag": "ABX9TyOdMCwcpKIsCmVaNcCsACXl",
      "include_colab_link": true
    },
    "kernelspec": {
      "display_name": "Python 3",
      "name": "python3"
    }
  },
  "cells": [
    {
      "cell_type": "markdown",
      "metadata": {
        "id": "view-in-github",
        "colab_type": "text"
      },
      "source": [
        "<a href=\"https://colab.research.google.com/github/KEETHAVANI/PYTHON/blob/main/Copy_of_keetha.ipynb\" target=\"_parent\"><img src=\"https://colab.research.google.com/assets/colab-badge.svg\" alt=\"Open In Colab\"/></a>"
      ]
    },
    {
      "cell_type": "code",
      "metadata": {
        "colab": {
          "base_uri": "https://localhost:8080/"
        },
        "id": "lUZdP9CngD6g",
        "outputId": "548d07f0-ce58-432d-b10b-f9452b75031f"
      },
      "source": [
        "a=10\r\n",
        "b=20\r\n",
        "c=a+b\r\n",
        "d=a-b\r\n",
        "e=a/b\r\n",
        "f=a%b\r\n",
        "g=a*b\r\n",
        "h=a**b\r\n",
        "print(c)\r\n",
        "print(d)\r\n",
        "print(e)\r\n",
        "print(f)\r\n",
        "print(g)\r\n",
        "print(h)"
      ],
      "execution_count": null,
      "outputs": [
        {
          "output_type": "stream",
          "text": [
            "30\n",
            "-10\n",
            "0.5\n",
            "10\n",
            "200\n",
            "100000000000000000000\n"
          ],
          "name": "stdout"
        }
      ]
    },
    {
      "cell_type": "markdown",
      "metadata": {
        "id": "V-Hg1s1rpi2l"
      },
      "source": [
        ""
      ]
    },
    {
      "cell_type": "code",
      "metadata": {
        "colab": {
          "base_uri": "https://localhost:8080/"
        },
        "id": "YEpR8pR5hASs",
        "outputId": "ead899d3-93cb-4c88-ffee-cbe732ae55ae"
      },
      "source": [
        "a=10\r\n",
        "a=-1\r\n",
        "print(a)"
      ],
      "execution_count": null,
      "outputs": [
        {
          "output_type": "stream",
          "text": [
            "-1\n"
          ],
          "name": "stdout"
        }
      ]
    },
    {
      "cell_type": "code",
      "metadata": {
        "colab": {
          "base_uri": "https://localhost:8080/"
        },
        "id": "uRzNbvB6hNO9",
        "outputId": "b2c4aca5-d10c-4353-ac3f-210bf487b9cc"
      },
      "source": [
        "a=10\r\n",
        "a=b\r\n",
        "print(a is b)\r\n",
        "print(a is not b)"
      ],
      "execution_count": null,
      "outputs": [
        {
          "output_type": "stream",
          "text": [
            "True\n",
            "False\n"
          ],
          "name": "stdout"
        }
      ]
    },
    {
      "cell_type": "code",
      "metadata": {
        "colab": {
          "base_uri": "https://localhost:8080/"
        },
        "id": "jJk9wQb6hmGJ",
        "outputId": "908b5a26-7449-46e2-9312-72ba40190ae2"
      },
      "source": [
        "x=\"apple\"\r\n",
        "print(\"apple\" not in x)"
      ],
      "execution_count": null,
      "outputs": [
        {
          "output_type": "stream",
          "text": [
            "False\n"
          ],
          "name": "stdout"
        }
      ]
    },
    {
      "cell_type": "code",
      "metadata": {
        "colab": {
          "base_uri": "https://localhost:8080/"
        },
        "id": "Q_Hb6FZKhv3I",
        "outputId": "3605cf5d-79aa-4efd-b723-930614b91622"
      },
      "source": [
        "a=2\r\n",
        "b=4\r\n",
        "if(a>b):\r\n",
        "  print(\"a is greater\")\r\n",
        "else:\r\n",
        "  print(\"a is lesser\")  "
      ],
      "execution_count": null,
      "outputs": [
        {
          "output_type": "stream",
          "text": [
            "a is lesser\n"
          ],
          "name": "stdout"
        }
      ]
    },
    {
      "cell_type": "code",
      "metadata": {
        "colab": {
          "base_uri": "https://localhost:8080/"
        },
        "id": "7_doxbSEh9qZ",
        "outputId": "ba6705de-fe98-4fd3-d583-ea30039e2529"
      },
      "source": [
        "a=float(input(\"Enter a number\"))\r\n",
        "b=float(input(\"Enter a number\"))\r\n",
        "c=(a+b)/2\r\n",
        "print(\"Average is\",c)"
      ],
      "execution_count": null,
      "outputs": [
        {
          "output_type": "stream",
          "text": [
            "Enter a number2\n",
            "Enter a number4\n",
            "Average is 3.0\n"
          ],
          "name": "stdout"
        }
      ]
    },
    {
      "cell_type": "code",
      "metadata": {
        "colab": {
          "base_uri": "https://localhost:8080/"
        },
        "id": "FKMfyRYAiYrv",
        "outputId": "3b587ba3-84db-445f-acba-b8e7494fb395"
      },
      "source": [
        "a=1\r\n",
        "b=2.0\r\n",
        "print(\"datatype\",type(a))\r\n",
        "print(\"datatype\",type(b))\r\n",
        "print(\"value of c:\",c)\r\n",
        "print(\"datatype\",type(c))"
      ],
      "execution_count": null,
      "outputs": [
        {
          "output_type": "stream",
          "text": [
            "datatype <class 'int'>\n",
            "datatype <class 'float'>\n",
            "value of c: 3.0\n",
            "datatype <class 'float'>\n"
          ],
          "name": "stdout"
        }
      ]
    },
    {
      "cell_type": "code",
      "metadata": {
        "colab": {
          "base_uri": "https://localhost:8080/"
        },
        "id": "fjNPbAlVquBq",
        "outputId": "7b460231-4f07-423a-c980-68214fe2ee50"
      },
      "source": [
        "a=1\r\n",
        "b=\"10\"\r\n",
        "print(type(a))\r\n",
        "print(type(b))\r\n",
        "b=int(b)\r\n",
        "sum=a+b\r\n",
        "print(sum)\r\n",
        "print(type(sum))"
      ],
      "execution_count": null,
      "outputs": [
        {
          "output_type": "stream",
          "text": [
            "<class 'int'>\n",
            "<class 'str'>\n",
            "11\n",
            "<class 'int'>\n"
          ],
          "name": "stdout"
        }
      ]
    },
    {
      "cell_type": "markdown",
      "metadata": {
        "id": "MokNeo3mpJoe"
      },
      "source": [
        "***LECTURE 2 HW***"
      ]
    },
    {
      "cell_type": "code",
      "metadata": {
        "colab": {
          "base_uri": "https://localhost:8080/"
        },
        "id": "UtJdog6UsJ1c",
        "outputId": "7bd2312d-2068-4cec-c3a1-35b0aae3b1f1"
      },
      "source": [
        "a=float(input(\"Enter a number:\"))\r\n",
        "b=float(input(\"Enter a number:\"))\r\n",
        "c=float(input(\"Enter a number:\"))\r\n",
        "if(a>b):\r\n",
        "  print(\"a is largest\")\r\n",
        "elif(b>c):\r\n",
        "  print(\"b is largest\")\r\n",
        "else:\r\n",
        "  print(\"c is largest\")    "
      ],
      "execution_count": null,
      "outputs": [
        {
          "output_type": "stream",
          "text": [
            "Enter a number:3\n",
            "Enter a number:5\n",
            "Enter a number:4\n",
            "b is largest\n"
          ],
          "name": "stdout"
        }
      ]
    },
    {
      "cell_type": "markdown",
      "metadata": {
        "id": "X1CAJf_M-gl9"
      },
      "source": [
        "\r\n"
      ]
    },
    {
      "cell_type": "code",
      "metadata": {
        "colab": {
          "base_uri": "https://localhost:8080/"
        },
        "id": "Ub9O4BSoBy5l",
        "outputId": "c099c47e-0e6e-40e5-d496-d299c5e8ea1c"
      },
      "source": [
        "x=float(input(\"Enter a number:\"))\r\n",
        "if(x%2==0):\r\n",
        "  print(\"The number is even\")\r\n",
        "else:\r\n",
        "  print(\"The number is odd\")  "
      ],
      "execution_count": null,
      "outputs": [
        {
          "output_type": "stream",
          "text": [
            "Enter a number:5\n",
            "The number is odd\n"
          ],
          "name": "stdout"
        }
      ]
    },
    {
      "cell_type": "code",
      "metadata": {
        "colab": {
          "base_uri": "https://localhost:8080/"
        },
        "id": "c48f84raCQ0W",
        "outputId": "68d0035f-9630-49de-c572-972cad2af02b"
      },
      "source": [
        "r=float(input(\"Enter the radius of the circle:\"))\r\n",
        "Area=2*(22/7)*r\r\n",
        "Circumference=(22/7)*r*r\r\n",
        "print(\"The area of the circle is:\",Area)\r\n",
        "print(\"The circumference of the circle is:\",Circumference)"
      ],
      "execution_count": null,
      "outputs": [
        {
          "output_type": "stream",
          "text": [
            "Enter the radius of the circle:4\n",
            "The area of the circle is: 25.142857142857142\n",
            "The circumference of the circle is: 50.285714285714285\n"
          ],
          "name": "stdout"
        }
      ]
    },
    {
      "cell_type": "code",
      "metadata": {
        "colab": {
          "base_uri": "https://localhost:8080/"
        },
        "id": "vVTurUs1DgL3",
        "outputId": "2058de5b-d5b7-444f-ba5a-1c031b227277"
      },
      "source": [
        "print(\"Hello World!\")"
      ],
      "execution_count": null,
      "outputs": [
        {
          "output_type": "stream",
          "text": [
            "Hello World!\n"
          ],
          "name": "stdout"
        }
      ]
    },
    {
      "cell_type": "code",
      "metadata": {
        "id": "lPihChq2Dqg5"
      },
      "source": [
        "a=float(input(\"enter a number:\"))\r\n",
        "b=float(input(\"enter a number:\"))\r\n",
        "c=a+b\r\n",
        "d=a/b\r\n",
        "e=a%b\r\n",
        "f=a**b\r\n",
        "g=(a+b)/2\r\n",
        "print(type(a))\r\n",
        "print(type(b))\r\n",
        "print(c,d,e,f,g)"
      ],
      "execution_count": null,
      "outputs": []
    },
    {
      "cell_type": "markdown",
      "metadata": {
        "id": "2BwEaeVOqyjR"
      },
      "source": [
        "***LECTURE 3 HW***"
      ]
    },
    {
      "cell_type": "code",
      "metadata": {
        "colab": {
          "base_uri": "https://localhost:8080/"
        },
        "id": "fuc6QaxgJKg6",
        "outputId": "c218815e-4536-4013-aa8d-a10cacbac53e"
      },
      "source": [
        "#palindrome \r\n",
        "my_str=input(\"Enter a string:\")\r\n",
        "my_str=my_str.casefold()\r\n",
        "rev_str=reversed(my_str)\r\n",
        "if list(my_str)==list(rev_str):\r\n",
        "  print(\"The string is palindrome\")\r\n",
        "else:\r\n",
        "  print(\"The string is not palindrome\")    "
      ],
      "execution_count": null,
      "outputs": [
        {
          "output_type": "stream",
          "text": [
            "Enter a string:rotor\n",
            "The string is palindrome\n"
          ],
          "name": "stdout"
        }
      ]
    },
    {
      "cell_type": "code",
      "metadata": {
        "colab": {
          "base_uri": "https://localhost:8080/"
        },
        "id": "zNkXwmGLH530",
        "outputId": "6f9475cf-938b-48e4-9fe0-ec61e6f4d7f4"
      },
      "source": [
        "a=10    \r\n",
        "b=20\r\n",
        "c=a*b\r\n",
        "d=a+b\r\n",
        "if(c>1000):\r\n",
        "  print(c)\r\n",
        "else:\r\n",
        "  print(d)  \r\n"
      ],
      "execution_count": null,
      "outputs": [
        {
          "output_type": "stream",
          "text": [
            "30\n"
          ],
          "name": "stdout"
        }
      ]
    },
    {
      "cell_type": "code",
      "metadata": {
        "colab": {
          "base_uri": "https://localhost:8080/"
        },
        "id": "4hEPY57tL5lD",
        "outputId": "41db8c37-4e2b-4bfe-a994-2b3618b6fd11"
      },
      "source": [
        "#swapping \r\n",
        "a=30\r\n",
        "b=40\r\n",
        "(a,b)=(b,a)\r\n",
        "print(a,b)"
      ],
      "execution_count": null,
      "outputs": [
        {
          "output_type": "stream",
          "text": [
            "40 30\n"
          ],
          "name": "stdout"
        }
      ]
    },
    {
      "cell_type": "markdown",
      "metadata": {
        "id": "xKD6lFx0pDOF"
      },
      "source": [
        ""
      ]
    },
    {
      "cell_type": "markdown",
      "metadata": {
        "id": "a9N9tmuGo9fE"
      },
      "source": [
        "***LECTURE 4***"
      ]
    },
    {
      "cell_type": "code",
      "metadata": {
        "id": "5WYea7-KNjaW",
        "colab": {
          "base_uri": "https://localhost:8080/"
        },
        "outputId": "b52e5a59-3f17-4f86-9f5b-a42cc730d005"
      },
      "source": [
        "var1=5\r\n",
        "var2=6\r\n",
        "var3=int(input(\"Enter a number:\"))\r\n",
        "if(var3>var2):\r\n",
        "  print(\"var3 is greater\")\r\n",
        "elif(var1==var3):\r\n",
        "  print(\"they are equal\")\r\n",
        "else:\r\n",
        "  print(\"var3 is smaller\")  "
      ],
      "execution_count": null,
      "outputs": [
        {
          "output_type": "stream",
          "text": [
            "Enter a number:5\n",
            "they are equal\n"
          ],
          "name": "stdout"
        }
      ]
    },
    {
      "cell_type": "code",
      "metadata": {
        "colab": {
          "base_uri": "https://localhost:8080/"
        },
        "id": "RiPo3Ysiq_lz",
        "outputId": "32719007-7f5b-4be1-90d1-6b103041ee05"
      },
      "source": [
        "list=[1,5,7]\r\n",
        "if 3 in list:\r\n",
        "  print(\"It's in the list\")\r\n",
        "if 3 not in list:\r\n",
        "  print(\"It's not in the list\")  "
      ],
      "execution_count": null,
      "outputs": [
        {
          "output_type": "stream",
          "text": [
            "It's not in the list\n"
          ],
          "name": "stdout"
        }
      ]
    },
    {
      "cell_type": "code",
      "metadata": {
        "id": "R3i0IRwgsqbB",
        "colab": {
          "base_uri": "https://localhost:8080/"
        },
        "outputId": "2e6b7919-4dd2-499c-917f-c5bf8ed4cce8"
      },
      "source": [
        "#list1=[\"priya\",\"meena\",\"sneha\"]  #in for loop we get op in a single line without quotations\r\n",
        "#for item in list1:\r\n",
        " # print(item)\r\n",
        "list2=[[\"priya\",2],[\"meena\",3],[\"sneha\",5]]\r\n",
        "for item,fruits in list2:\r\n",
        "  print(item,fruits) "
      ],
      "execution_count": null,
      "outputs": [
        {
          "output_type": "stream",
          "text": [
            "priya 2\n",
            "meena 3\n",
            "sneha 5\n"
          ],
          "name": "stdout"
        }
      ]
    },
    {
      "cell_type": "code",
      "metadata": {
        "id": "wMlw2w9bwPyo",
        "colab": {
          "base_uri": "https://localhost:8080/"
        },
        "outputId": "48c77e01-b723-485a-bb19-e5408be2eece"
      },
      "source": [
        "#multiples of 5\r\n",
        "a=0\r\n",
        "while(a<=50):\r\n",
        "  print(a)\r\n",
        "  a=a+5"
      ],
      "execution_count": null,
      "outputs": [
        {
          "output_type": "stream",
          "text": [
            "0\n",
            "5\n",
            "10\n",
            "15\n",
            "20\n",
            "25\n",
            "30\n",
            "35\n",
            "40\n",
            "45\n",
            "50\n"
          ],
          "name": "stdout"
        }
      ]
    },
    {
      "cell_type": "code",
      "metadata": {
        "id": "-mYqqpB9yktJ",
        "colab": {
          "base_uri": "https://localhost:8080/"
        },
        "outputId": "32a7cc5f-1d31-42f7-a8dc-ceacf18a43a0"
      },
      "source": [
        "i=0\r\n",
        "while(True): #when using while cond with true inside it goes into the loop \r\n",
        "     #  if i+1<5:\r\n",
        "      #   i=i+1\r\n",
        "       #  continue    #continues until given limit\r\n",
        "    \r\n",
        "    \r\n",
        "    print(i+1)\r\n",
        "    if(i==44):\r\n",
        "       break     #stop the loop\r\n",
        "    i+=1   \r\n",
        "\r\n",
        "\r\n",
        "  \r\n"
      ],
      "execution_count": null,
      "outputs": [
        {
          "output_type": "stream",
          "text": [
            "1\n",
            "2\n",
            "3\n",
            "4\n",
            "5\n",
            "6\n",
            "7\n",
            "8\n",
            "9\n",
            "10\n",
            "11\n",
            "12\n",
            "13\n",
            "14\n",
            "15\n",
            "16\n",
            "17\n",
            "18\n",
            "19\n",
            "20\n",
            "21\n",
            "22\n",
            "23\n",
            "24\n",
            "25\n",
            "26\n",
            "27\n",
            "28\n",
            "29\n",
            "30\n",
            "31\n",
            "32\n",
            "33\n",
            "34\n",
            "35\n",
            "36\n",
            "37\n",
            "38\n",
            "39\n",
            "40\n",
            "41\n",
            "42\n",
            "43\n",
            "44\n",
            "45\n"
          ],
          "name": "stdout"
        }
      ]
    },
    {
      "cell_type": "code",
      "metadata": {
        "id": "iWP5L7wy0f4N",
        "colab": {
          "base_uri": "https://localhost:8080/"
        },
        "outputId": "132b2c9e-0dc9-4bc9-a082-2ac3bda179e3"
      },
      "source": [
        "#mulitiple of 10\r\n",
        "a=0\r\n",
        "while(a<=100):\r\n",
        "  print(a)\r\n",
        "  a=a+10"
      ],
      "execution_count": null,
      "outputs": [
        {
          "output_type": "stream",
          "text": [
            "0\n",
            "10\n",
            "20\n",
            "30\n",
            "40\n",
            "50\n",
            "60\n",
            "70\n",
            "80\n",
            "90\n",
            "100\n"
          ],
          "name": "stdout"
        }
      ]
    },
    {
      "cell_type": "markdown",
      "metadata": {
        "id": "rUl6vjRvoySy"
      },
      "source": [
        "***LECTURE 4 HW***"
      ]
    },
    {
      "cell_type": "code",
      "metadata": {
        "colab": {
          "base_uri": "https://localhost:8080/"
        },
        "id": "v7dwdV78i4uJ",
        "outputId": "fb8f1cdc-7dd1-451e-8be3-652f136c02c0"
      },
      "source": [
        "#factorial\r\n",
        "n=int(input(\"Enter a number:\"))\r\n",
        "i=1\r\n",
        "fact=1\r\n",
        "while(i<=n):\r\n",
        "  fact=fact*i\r\n",
        "  i=i+1\r\n",
        "  print(fact)"
      ],
      "execution_count": null,
      "outputs": [
        {
          "output_type": "stream",
          "text": [
            "Enter a number:7\n",
            "1\n",
            "2\n",
            "6\n",
            "24\n",
            "120\n",
            "720\n",
            "5040\n"
          ],
          "name": "stdout"
        }
      ]
    },
    {
      "cell_type": "code",
      "metadata": {
        "colab": {
          "base_uri": "https://localhost:8080/"
        },
        "id": "ID7LUbv7kKu9",
        "outputId": "dcddb38d-f877-417f-8b6e-61e1cc38211c"
      },
      "source": [
        "#GCD largest number that divides both the given int\r\n",
        "import math\r\n",
        "a=int(input(\"Enter a number\"))\r\n",
        "b=int(input(\"Enter a number\"))\r\n",
        "print(\"Gcd is\",math.gcd(a,b))"
      ],
      "execution_count": null,
      "outputs": [
        {
          "output_type": "stream",
          "text": [
            "Enter a number16\n",
            "Enter a number18\n",
            "Gcd is 2\n"
          ],
          "name": "stdout"
        }
      ]
    },
    {
      "cell_type": "code",
      "metadata": {
        "colab": {
          "base_uri": "https://localhost:8080/"
        },
        "id": "nY_JlJBJlnyO",
        "outputId": "d4ecbde1-2a35-4403-e0df-9a6383053181"
      },
      "source": [
        "n=int(input(\"Enter a number:\"))\r\n",
        "#odd or even\r\n",
        "if(n%2==0):\r\n",
        "  print(\"The number is even\")\r\n",
        "else:\r\n",
        "  print(\"The number is odd\")  "
      ],
      "execution_count": null,
      "outputs": [
        {
          "output_type": "stream",
          "text": [
            "Enter a number:5\n",
            "The number is odd\n"
          ],
          "name": "stdout"
        }
      ]
    },
    {
      "cell_type": "code",
      "metadata": {
        "colab": {
          "base_uri": "https://localhost:8080/"
        },
        "id": "dWnZYy6lnyCn",
        "outputId": "7ca037dc-8497-4a81-b52f-d2263a93d1ce"
      },
      "source": [
        "#counting no of odd &even no's from series\r\n",
        "numbers=(1,2,3,4,5,6,7,8,9)\r\n",
        "count_odd=0\r\n",
        "count_even=0\r\n",
        "for x in numbers:\r\n",
        "  if not x%2:\r\n",
        "    count_even+=1\r\n",
        "  else:\r\n",
        "    count_odd+=1\r\n",
        "print(\"Number of even no's:\",count_even)\r\n",
        "print(\"Number of odd no's:\",count_odd)    \r\n",
        "\r\n",
        "\r\n"
      ],
      "execution_count": null,
      "outputs": [
        {
          "output_type": "stream",
          "text": [
            "Number of even no's: 4\n",
            "Number of odd no's: 5\n"
          ],
          "name": "stdout"
        }
      ]
    },
    {
      "cell_type": "code",
      "metadata": {
        "colab": {
          "base_uri": "https://localhost:8080/"
        },
        "id": "9pP41wxgpwcA",
        "outputId": "209554db-612f-4ce2-e722-9c053ab9cb2f"
      },
      "source": [
        "#sum of 2 no's\r\n",
        "a=int(input(\"Enter a number:\"))\r\n",
        "b=int(input(\"Enter a number:\"))\r\n",
        "c=a+b\r\n",
        "if(c<=15 & c>20):\r\n",
        "  print(\"sum is\",c)\r\n",
        "else:\r\n",
        "  print(\"sum is 20\")  "
      ],
      "execution_count": null,
      "outputs": [
        {
          "output_type": "stream",
          "text": [
            "Enter a number:7\n",
            "Enter a number:9\n",
            "sum is 20\n"
          ],
          "name": "stdout"
        }
      ]
    },
    {
      "cell_type": "code",
      "metadata": {
        "id": "bBlZF5XSqrrO"
      },
      "source": [
        "#prime nos within range gn     (num divisible by itself and 1)\r\n",
        "lower=int(input(\"Enter lower range:\"))\r\n",
        "upper=int(input(\"Enter upper range:\"))\r\n",
        "for num in range(lower,upper+1):\r\n",
        "  if num>1:\r\n",
        "    for i in range(2,num):\r\n",
        "      if(num%i)==0:\r\n",
        "        break\r\n",
        "  else:\r\n",
        "    print(num)            \r\n"
      ],
      "execution_count": null,
      "outputs": []
    },
    {
      "cell_type": "markdown",
      "metadata": {
        "id": "K7tZlCTPodrs"
      },
      "source": [
        "***LECTURE 5***"
      ]
    },
    {
      "cell_type": "code",
      "metadata": {
        "id": "3rdr_vtDsafA",
        "colab": {
          "base_uri": "https://localhost:8080/"
        },
        "outputId": "d27174cc-d7c3-4f84-ec01-b129bcea5719"
      },
      "source": [
        "#functions\r\n",
        "#builtin fn(already there)\r\n",
        "a=2\r\n",
        "b=4\r\n",
        "c=sum((a,b))\r\n",
        "print(c)"
      ],
      "execution_count": null,
      "outputs": [
        {
          "output_type": "stream",
          "text": [
            "6\n"
          ],
          "name": "stdout"
        }
      ]
    },
    {
      "cell_type": "code",
      "metadata": {
        "id": "q1ZouZFrVu_c",
        "colab": {
          "base_uri": "https://localhost:8080/"
        },
        "outputId": "78858528-b56f-4f81-855a-13d83cc8135c"
      },
      "source": [
        "#user defined fn(made on our own)\r\n",
        "def fun():   #function declaration\r\n",
        "  print(\"My name is keetha\")\r\n",
        "\r\n",
        "fun() #fn calling  "
      ],
      "execution_count": null,
      "outputs": [
        {
          "output_type": "stream",
          "text": [
            "My name is keetha\n"
          ],
          "name": "stdout"
        }
      ]
    },
    {
      "cell_type": "code",
      "metadata": {
        "id": "uH6QlynlWZ_k",
        "colab": {
          "base_uri": "https://localhost:8080/"
        },
        "outputId": "a19be4e0-d2d0-46ed-ff74-bcbf8a87098a"
      },
      "source": [
        "def newfunction(a,b):\r\n",
        "  multiply=a*b\r\n",
        "  \"\"\"This is a function which calculates the multiplication of two numbers \"\"\"    \r\n",
        "  print(multiply)\r\n",
        "  #return multiply            #a=2\r\n",
        "                              #b=5\r\n",
        "\r\n",
        "a=newfunction(2,5)\r\n",
        "print(a) \r\n",
        "print(newfunction.__doc__) \r\n"
      ],
      "execution_count": null,
      "outputs": [
        {
          "output_type": "stream",
          "text": [
            "10\n",
            "None\n",
            "None\n"
          ],
          "name": "stdout"
        }
      ]
    },
    {
      "cell_type": "code",
      "metadata": {
        "id": "isD5QyRzXEJp",
        "colab": {
          "base_uri": "https://localhost:8080/"
        },
        "outputId": "47996ba6-07a0-4157-926a-0f84d6a19748"
      },
      "source": [
        "print(\"Enter a number:\")\r\n",
        "num1=input()\r\n",
        "print(\"Enter a number:\")\r\n",
        "num2=input()\r\n",
        "try:\r\n",
        "  print(\"sum is :\", int(num1) + int(num2))\r\n",
        "except Exception as e:\r\n",
        "  print(e)  \r\n"
      ],
      "execution_count": null,
      "outputs": [
        {
          "output_type": "stream",
          "text": [
            "Enter a number:\n",
            "2\n",
            "Enter a number:\n",
            "4\n",
            "sum is : 6\n"
          ],
          "name": "stdout"
        }
      ]
    },
    {
      "cell_type": "code",
      "metadata": {
        "colab": {
          "base_uri": "https://localhost:8080/"
        },
        "id": "WSsHrRrAbHm2",
        "outputId": "c32b1213-91b7-499d-dedd-b743a63a9be2"
      },
      "source": [
        "x=5        #global var(def outside fn)\r\n",
        "def fun():\r\n",
        "  x=10    #local var(def inside fn)\r\n",
        "  print(\"Local Variable is:\",x)\r\n",
        "fun()\r\n",
        "print(\"Global variable:\",x)     "
      ],
      "execution_count": null,
      "outputs": [
        {
          "output_type": "stream",
          "text": [
            "Local Variable is: 10\n",
            "Global variable: 5\n"
          ],
          "name": "stdout"
        }
      ]
    },
    {
      "cell_type": "code",
      "metadata": {
        "colab": {
          "base_uri": "https://localhost:8080/"
        },
        "id": "HV8G_tjkioLe",
        "outputId": "07ded54e-07e9-4d89-8e25-9e296d7e7975"
      },
      "source": [
        "#iteration & recursion\r\n",
        "#recursion(fn inside a fn)\r\n",
        "def factorial_recursive(n):\r\n",
        "  if n==1:\r\n",
        "    return 1\r\n",
        "  else:\r\n",
        "    return n*factorial_recursive(n-1)\r\n",
        "number= int(input(\"Enter a number:\"))\r\n",
        "print(\"Factorial:\",factorial_recursive(number))    \r\n"
      ],
      "execution_count": null,
      "outputs": [
        {
          "output_type": "stream",
          "text": [
            "Enter a number:5\n",
            "Factorial: 120\n"
          ],
          "name": "stdout"
        }
      ]
    },
    {
      "cell_type": "code",
      "metadata": {
        "colab": {
          "base_uri": "https://localhost:8080/"
        },
        "id": "98AWIHhQknZg",
        "outputId": "d943d303-dd1e-4d57-ad46-aef34a80fc30"
      },
      "source": [
        "#user defined fn for subtraction\r\n",
        "def fun():\r\n",
        "  a=2\r\n",
        "  b=1\r\n",
        "  c=a-b\r\n",
        "  print(c)\r\n",
        "fun()"
      ],
      "execution_count": null,
      "outputs": [
        {
          "output_type": "stream",
          "text": [
            "1\n"
          ],
          "name": "stdout"
        }
      ]
    },
    {
      "cell_type": "code",
      "metadata": {
        "colab": {
          "base_uri": "https://localhost:8080/"
        },
        "id": "wJDLnUCImQcH",
        "outputId": "7dbe6adb-d956-48a2-b9ba-1641af646093"
      },
      "source": [
        "#subraction usinf lambda\r\n",
        "minus=lambda x,y:x-y\r\n",
        "print(minus(9,4))"
      ],
      "execution_count": null,
      "outputs": [
        {
          "output_type": "stream",
          "text": [
            "5\n"
          ],
          "name": "stdout"
        }
      ]
    },
    {
      "cell_type": "code",
      "metadata": {
        "colab": {
          "base_uri": "https://localhost:8080/"
        },
        "id": "QUPvzAV0nKR-",
        "outputId": "f3385349-b2fe-464a-9870-a483c7731147"
      },
      "source": [
        "#f  is string\r\n",
        "my=\"keetha\"\r\n",
        "s=10\r\n",
        "s1=f\"My name is {my} {s}\"\r\n",
        "print(s1)"
      ],
      "execution_count": null,
      "outputs": [
        {
          "output_type": "stream",
          "text": [
            "My name is keetha 10\n"
          ],
          "name": "stdout"
        }
      ]
    },
    {
      "cell_type": "markdown",
      "metadata": {
        "id": "IiiJJ04GdTIO"
      },
      "source": [
        "***LECTURE 6***"
      ]
    },
    {
      "cell_type": "code",
      "metadata": {
        "id": "ZYbDm-8TenbG"
      },
      "source": [
        "# CONSTRUCTORS:giving arg to class\r\n",
        "#abstraction-hiding an unimportant data\r\n",
        "#encapsulation-hiding the data for the purpose of protection\r\n",
        "#polymorphism-ability to take various forms"
      ],
      "execution_count": null,
      "outputs": []
    },
    {
      "cell_type": "code",
      "metadata": {
        "id": "JA1hpDwemW6T"
      },
      "source": [
        "#inheritance-it is the capability of one class from another class"
      ],
      "execution_count": null,
      "outputs": []
    },
    {
      "cell_type": "markdown",
      "metadata": {
        "id": "nAKwtZaB_GXY"
      },
      "source": [
        "***LECTURE 6***"
      ]
    },
    {
      "cell_type": "code",
      "metadata": {
        "colab": {
          "base_uri": "https://localhost:8080/",
          "height": 129
        },
        "id": "T1IVU4N40koF",
        "outputId": "a8c5cb69-87a4-4867-b1df-74ff7a43dac5"
      },
      "source": [
        "def fun(string) :\r\n",
        "  return f\"Python course by Tech Table, {string}\"    #usage of F-string\r\n",
        "def add(a1,a2) :\r\n",
        "    return a1+a2+10\r\n",
        "if __name__ == '__main__':   #main function\r\n",
        "print(fun(\"an E-learning platform\")) \r\n",
        " a = add(10,20)\r\n",
        "print(a)   \r\n",
        "\r\n"
      ],
      "execution_count": 10,
      "outputs": [
        {
          "output_type": "error",
          "ename": "IndentationError",
          "evalue": "ignored",
          "traceback": [
            "\u001b[0;36m  File \u001b[0;32m\"<ipython-input-10-a01470400a08>\"\u001b[0;36m, line \u001b[0;32m6\u001b[0m\n\u001b[0;31m    print(fun(\"an E-learning platform\"))\u001b[0m\n\u001b[0m        ^\u001b[0m\n\u001b[0;31mIndentationError\u001b[0m\u001b[0;31m:\u001b[0m expected an indented block\n"
          ]
        }
      ]
    },
    {
      "cell_type": "code",
      "metadata": {
        "colab": {
          "base_uri": "https://localhost:8080/"
        },
        "id": "QWHVqOrX1TMS",
        "outputId": "9ee687b2-0e67-44c5-bcd0-3074e85deb1b"
      },
      "source": [
        "class student:\r\n",
        "  pass\r\n",
        "  no_of_student = 5\r\n",
        "  #INSTATATION, creation of objects\r\n",
        "one = student()\r\n",
        "two = student()\r\n",
        "one.name = \"Keetha\"\r\n",
        "one.std = \"10\"\r\n",
        "one.section  = \"A\"\r\n",
        "two.name = \"Diya\"\r\n",
        "two.section = \"B\"\r\n",
        "two.std = \"2\"\r\n",
        "two.sub = [\"Science\", \"Maths\" , \"English\"]\r\n",
        "print(one.name)\r\n",
        "print(two.name)\r\n",
        "print(one.std)\r\n",
        "print(two.std)\r\n",
        "print(one.section)\r\n",
        "print(two.section)  "
      ],
      "execution_count": 12,
      "outputs": [
        {
          "output_type": "stream",
          "text": [
            "Keetha\n",
            "Diya\n",
            "10\n",
            "2\n",
            "A\n",
            "B\n"
          ],
          "name": "stdout"
        }
      ]
    },
    {
      "cell_type": "code",
      "metadata": {
        "colab": {
          "base_uri": "https://localhost:8080/"
        },
        "id": "sQffKdly3sgr",
        "outputId": "0fb18b80-5618-4956-c150-e2bcccbb18d5"
      },
      "source": [
        "class student:\r\n",
        "  no_of_student = 5\r\n",
        "  def __init__(self,aname,astd,asection):\r\n",
        "    self.name = aname\r\n",
        "    self.std = astd\r\n",
        "    self.section = asection\r\n",
        "one = student(\"Keetha\",10,\"A\") \r\n",
        "two = student(\"Diya\",2,\"B\")\r\n",
        "print(one.name)\r\n",
        "print(two.name)\r\n",
        "print(one.std)\r\n",
        "print(two.std)\r\n",
        "print(one.section)\r\n",
        "print(two.section)   "
      ],
      "execution_count": 13,
      "outputs": [
        {
          "output_type": "stream",
          "text": [
            "Keetha\n",
            "Diya\n",
            "10\n",
            "2\n",
            "A\n",
            "B\n"
          ],
          "name": "stdout"
        }
      ]
    },
    {
      "cell_type": "code",
      "metadata": {
        "id": "XCYZCJmR4sV2"
      },
      "source": [
        "class student:\r\n",
        "  #class variable\r\n",
        "  no_of_subjects = 50\r\n",
        "  _no_of_subjects = 40\r\n",
        "  __no_of_subjects = 30\r\n",
        "\r\n",
        "  def __ini__(self, aname, astandard, asection):\r\n",
        "      self.name = aname\r\n",
        "      self.standard = astandard\r\n",
        "      self.section = asection\r\n",
        "  def details(self):\r\n",
        "    return f\"Name is {self.name}, standard is {self.standard}\" \r\n",
        "one = student(\"Yamuna\", 10,\"A\")\r\n",
        "two = student(\"Buvana\", 7,\"B\")\r\n",
        "\r\n",
        "print(one.no_of_subjects)\r\n",
        "print(one._no_of_subjects)\r\n",
        "print(one._student__no_of_subjects)     "
      ],
      "execution_count": null,
      "outputs": []
    },
    {
      "cell_type": "code",
      "metadata": {
        "colab": {
          "base_uri": "https://localhost:8080/"
        },
        "id": "Cyo1ebGH6OGL",
        "outputId": "6511d6c7-e2bd-4c16-9e8c-60897dba28a7"
      },
      "source": [
        "#polymorphism\r\n",
        "print(2+2)\r\n",
        "print(\"2\"+\"2\")"
      ],
      "execution_count": 18,
      "outputs": [
        {
          "output_type": "stream",
          "text": [
            "4\n",
            "22\n"
          ],
          "name": "stdout"
        }
      ]
    },
    {
      "cell_type": "code",
      "metadata": {
        "colab": {
          "base_uri": "https://localhost:8080/"
        },
        "id": "PMAbjxAK6zfx",
        "outputId": "756411db-f184-4411-c438-46ff14b3d4cd"
      },
      "source": [
        "class student:\r\n",
        "   no_of_subjects = 5\r\n",
        "   def __init__(self, aname,astandard,asection):\r\n",
        "      self.name = aname\r\n",
        "      self.standard = astandard\r\n",
        "      self.section = asection\r\n",
        "   def details_of_student(self):\r\n",
        "     return f\"Name is {self.name},standard is {self.standard}\"\r\n",
        "class teacher(student):\r\n",
        "    no_of_working_hours = 12\r\n",
        "    def __init__(self,aname,astandard,asection,asalary):\r\n",
        "        self.name = aname\r\n",
        "        self.standard = astandard\r\n",
        "        self.section = asection\r\n",
        "        self.salary = asalary\r\n",
        "    def details_of_teacher(self):\r\n",
        "        return f\"Name of the teacher is {self.name},standard is{self.standard},salary is {self.salary}\"\r\n",
        "        #INSTANTATION ,CREATING OF OBJECTS\r\n",
        "one = student(\"JAMUNA\",2,\"A\")\r\n",
        "two = student(\"SANCHANA\",8,\"B\")\r\n",
        "\r\n",
        "three = teacher(\"SHAMBHAVI\",10,\"A\",50000)\r\n",
        "four = teacher(\"GUPTA\",12,\"B\", 50000)\r\n",
        "\r\n",
        "print(one.details_of_student())\r\n",
        "print(two.details_of_student())\r\n",
        "\r\n",
        "print(three.details_of_teacher())\r\n",
        "print(four.details_of_teacher())\r\n",
        "print(three.no_of_subjects)"
      ],
      "execution_count": 21,
      "outputs": [
        {
          "output_type": "stream",
          "text": [
            "Name is JAMUNA,standard is 2\n",
            "Name is SANCHANA,standard is 8\n",
            "Name of the teacher is SHAMBHAVI,standard is10,salary is 50000\n",
            "Name of the teacher is GUPTA,standard is12,salary is 50000\n",
            "5\n"
          ],
          "name": "stdout"
        }
      ]
    },
    {
      "cell_type": "code",
      "metadata": {
        "id": "vv4Ygwtp-rKM"
      },
      "source": [
        ""
      ],
      "execution_count": null,
      "outputs": []
    }
  ]
}