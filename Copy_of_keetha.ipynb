{
  "nbformat": 4,
  "nbformat_minor": 0,
  "metadata": {
    "colab": {
      "name": "Copy of keetha.ipynb",
      "provenance": [],
      "collapsed_sections": [],
      "authorship_tag": "ABX9TyNiNPY8t1MVlcwIAKflu24T",
      "include_colab_link": true
    },
    "kernelspec": {
      "display_name": "Python 3",
      "name": "python3"
    }
  },
  "cells": [
    {
      "cell_type": "markdown",
      "metadata": {
        "id": "view-in-github",
        "colab_type": "text"
      },
      "source": [
        "<a href=\"https://colab.research.google.com/github/KEETHAVANI/PYTHON/blob/main/Copy_of_keetha.ipynb\" target=\"_parent\"><img src=\"https://colab.research.google.com/assets/colab-badge.svg\" alt=\"Open In Colab\"/></a>"
      ]
    },
    {
      "cell_type": "code",
      "metadata": {
        "colab": {
          "base_uri": "https://localhost:8080/"
        },
        "id": "lUZdP9CngD6g",
        "outputId": "a5329d7d-4079-4962-dc41-116591881536"
      },
      "source": [
        "a=10\r\n",
        "b=20\r\n",
        "c=a+b\r\n",
        "d=a-b\r\n",
        "e=a/b\r\n",
        "f=a%b\r\n",
        "g=a*b\r\n",
        "h=a**b\r\n",
        "print(c)\r\n",
        "print(d)\r\n",
        "print(e)\r\n",
        "print(f)\r\n",
        "print(g)\r\n",
        "print(h)"
      ],
      "execution_count": null,
      "outputs": [
        {
          "output_type": "stream",
          "text": [
            "30\n",
            "-10\n",
            "0.5\n",
            "10\n",
            "200\n",
            "100000000000000000000\n"
          ],
          "name": "stdout"
        }
      ]
    },
    {
      "cell_type": "code",
      "metadata": {
        "colab": {
          "base_uri": "https://localhost:8080/"
        },
        "id": "YEpR8pR5hASs",
        "outputId": "ead899d3-93cb-4c88-ffee-cbe732ae55ae"
      },
      "source": [
        "a=10\r\n",
        "a=-1\r\n",
        "print(a)"
      ],
      "execution_count": null,
      "outputs": [
        {
          "output_type": "stream",
          "text": [
            "-1\n"
          ],
          "name": "stdout"
        }
      ]
    },
    {
      "cell_type": "code",
      "metadata": {
        "colab": {
          "base_uri": "https://localhost:8080/"
        },
        "id": "uRzNbvB6hNO9",
        "outputId": "b2c4aca5-d10c-4353-ac3f-210bf487b9cc"
      },
      "source": [
        "a=10\r\n",
        "a=b\r\n",
        "print(a is b)\r\n",
        "print(a is not b)"
      ],
      "execution_count": null,
      "outputs": [
        {
          "output_type": "stream",
          "text": [
            "True\n",
            "False\n"
          ],
          "name": "stdout"
        }
      ]
    },
    {
      "cell_type": "code",
      "metadata": {
        "colab": {
          "base_uri": "https://localhost:8080/"
        },
        "id": "jJk9wQb6hmGJ",
        "outputId": "908b5a26-7449-46e2-9312-72ba40190ae2"
      },
      "source": [
        "x=\"apple\"\r\n",
        "print(\"apple\" not in x)"
      ],
      "execution_count": null,
      "outputs": [
        {
          "output_type": "stream",
          "text": [
            "False\n"
          ],
          "name": "stdout"
        }
      ]
    },
    {
      "cell_type": "code",
      "metadata": {
        "colab": {
          "base_uri": "https://localhost:8080/"
        },
        "id": "Q_Hb6FZKhv3I",
        "outputId": "3605cf5d-79aa-4efd-b723-930614b91622"
      },
      "source": [
        "a=2\r\n",
        "b=4\r\n",
        "if(a>b):\r\n",
        "  print(\"a is greater\")\r\n",
        "else:\r\n",
        "  print(\"a is lesser\")  "
      ],
      "execution_count": null,
      "outputs": [
        {
          "output_type": "stream",
          "text": [
            "a is lesser\n"
          ],
          "name": "stdout"
        }
      ]
    },
    {
      "cell_type": "code",
      "metadata": {
        "colab": {
          "base_uri": "https://localhost:8080/"
        },
        "id": "7_doxbSEh9qZ",
        "outputId": "ba6705de-fe98-4fd3-d583-ea30039e2529"
      },
      "source": [
        "a=float(input(\"Enter a number\"))\r\n",
        "b=float(input(\"Enter a number\"))\r\n",
        "c=(a+b)/2\r\n",
        "print(\"Average is\",c)"
      ],
      "execution_count": null,
      "outputs": [
        {
          "output_type": "stream",
          "text": [
            "Enter a number2\n",
            "Enter a number4\n",
            "Average is 3.0\n"
          ],
          "name": "stdout"
        }
      ]
    },
    {
      "cell_type": "code",
      "metadata": {
        "colab": {
          "base_uri": "https://localhost:8080/"
        },
        "id": "FKMfyRYAiYrv",
        "outputId": "3b587ba3-84db-445f-acba-b8e7494fb395"
      },
      "source": [
        "a=1\r\n",
        "b=2.0\r\n",
        "print(\"datatype\",type(a))\r\n",
        "print(\"datatype\",type(b))\r\n",
        "print(\"value of c:\",c)\r\n",
        "print(\"datatype\",type(c))"
      ],
      "execution_count": null,
      "outputs": [
        {
          "output_type": "stream",
          "text": [
            "datatype <class 'int'>\n",
            "datatype <class 'float'>\n",
            "value of c: 3.0\n",
            "datatype <class 'float'>\n"
          ],
          "name": "stdout"
        }
      ]
    },
    {
      "cell_type": "code",
      "metadata": {
        "colab": {
          "base_uri": "https://localhost:8080/"
        },
        "id": "fjNPbAlVquBq",
        "outputId": "7b460231-4f07-423a-c980-68214fe2ee50"
      },
      "source": [
        "a=1\r\n",
        "b=\"10\"\r\n",
        "print(type(a))\r\n",
        "print(type(b))\r\n",
        "b=int(b)\r\n",
        "sum=a+b\r\n",
        "print(sum)\r\n",
        "print(type(sum))"
      ],
      "execution_count": null,
      "outputs": [
        {
          "output_type": "stream",
          "text": [
            "<class 'int'>\n",
            "<class 'str'>\n",
            "11\n",
            "<class 'int'>\n"
          ],
          "name": "stdout"
        }
      ]
    },
    {
      "cell_type": "code",
      "metadata": {
        "colab": {
          "base_uri": "https://localhost:8080/"
        },
        "id": "UtJdog6UsJ1c",
        "outputId": "7bd2312d-2068-4cec-c3a1-35b0aae3b1f1"
      },
      "source": [
        "a=float(input(\"Enter a number:\"))\r\n",
        "b=float(input(\"Enter a number:\"))\r\n",
        "c=float(input(\"Enter a number:\"))\r\n",
        "if(a>b):\r\n",
        "  print(\"a is largest\")\r\n",
        "elif(b>c):\r\n",
        "  print(\"b is largest\")\r\n",
        "else:\r\n",
        "  print(\"c is largest\")    "
      ],
      "execution_count": null,
      "outputs": [
        {
          "output_type": "stream",
          "text": [
            "Enter a number:3\n",
            "Enter a number:5\n",
            "Enter a number:4\n",
            "b is largest\n"
          ],
          "name": "stdout"
        }
      ]
    },
    {
      "cell_type": "markdown",
      "metadata": {
        "id": "X1CAJf_M-gl9"
      },
      "source": [
        "\r\n"
      ]
    },
    {
      "cell_type": "code",
      "metadata": {
        "colab": {
          "base_uri": "https://localhost:8080/"
        },
        "id": "Ub9O4BSoBy5l",
        "outputId": "c099c47e-0e6e-40e5-d496-d299c5e8ea1c"
      },
      "source": [
        "x=float(input(\"Enter a number:\"))\r\n",
        "if(x%2==0):\r\n",
        "  print(\"The number is even\")\r\n",
        "else:\r\n",
        "  print(\"The number is odd\")  "
      ],
      "execution_count": null,
      "outputs": [
        {
          "output_type": "stream",
          "text": [
            "Enter a number:5\n",
            "The number is odd\n"
          ],
          "name": "stdout"
        }
      ]
    },
    {
      "cell_type": "code",
      "metadata": {
        "colab": {
          "base_uri": "https://localhost:8080/"
        },
        "id": "c48f84raCQ0W",
        "outputId": "68d0035f-9630-49de-c572-972cad2af02b"
      },
      "source": [
        "r=float(input(\"Enter the radius of the circle:\"))\r\n",
        "Area=2*(22/7)*r\r\n",
        "Circumference=(22/7)*r*r\r\n",
        "print(\"The area of the circle is:\",Area)\r\n",
        "print(\"The circumference of the circle is:\",Circumference)"
      ],
      "execution_count": null,
      "outputs": [
        {
          "output_type": "stream",
          "text": [
            "Enter the radius of the circle:4\n",
            "The area of the circle is: 25.142857142857142\n",
            "The circumference of the circle is: 50.285714285714285\n"
          ],
          "name": "stdout"
        }
      ]
    },
    {
      "cell_type": "code",
      "metadata": {
        "colab": {
          "base_uri": "https://localhost:8080/"
        },
        "id": "vVTurUs1DgL3",
        "outputId": "2058de5b-d5b7-444f-ba5a-1c031b227277"
      },
      "source": [
        "print(\"Hello World!\")"
      ],
      "execution_count": null,
      "outputs": [
        {
          "output_type": "stream",
          "text": [
            "Hello World!\n"
          ],
          "name": "stdout"
        }
      ]
    },
    {
      "cell_type": "code",
      "metadata": {
        "id": "lPihChq2Dqg5"
      },
      "source": [
        "a=float(input(\"enter a number:\"))\r\n",
        "b=float(input(\"enter a number:\"))\r\n",
        "c=a+b\r\n",
        "d=a/b\r\n",
        "e=a%b\r\n",
        "f=a**b\r\n",
        "g=(a+b)/2\r\n",
        "print(type(a))\r\n",
        "print(type(b))\r\n",
        "print(c,d,e,f,g)"
      ],
      "execution_count": null,
      "outputs": []
    },
    {
      "cell_type": "code",
      "metadata": {
        "colab": {
          "background_save": true
        },
        "id": "fuc6QaxgJKg6"
      },
      "source": [
        ""
      ],
      "execution_count": null,
      "outputs": []
    }
  ]
}